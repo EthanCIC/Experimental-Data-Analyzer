{
 "cells": [
  {
   "cell_type": "code",
   "execution_count": 1,
   "metadata": {},
   "outputs": [
    {
     "name": "stdout",
     "output_type": "stream",
     "text": [
      "500mV.csv\n",
      "1000mV.csv\n",
      "1500mV.csv\n",
      "2000mV.csv\n",
      "2500mV.csv\n",
      "3000mV.csv\n",
      "3500mV.csv\n",
      "4000mV.csv\n",
      "4500mV.csv\n",
      "5000mV.csv\n"
     ]
    }
   ],
   "source": [
    "import numpy as np\n",
    "import matplotlib.pyplot as plt\n",
    "import os\n",
    "import re\n",
    "import glob\n",
    "\n",
    "# set exp. parameters\n",
    "pumpPower = 0.014\n",
    "measureTime = 30\n",
    "\n",
    "# human sorting (Natrual sorting)\n",
    "def atoi(text):\n",
    "    return int(text) if text.isdigit() else text\n",
    "\n",
    "def natural_keys(text):\n",
    "    return [atoi(c) for c in re.split('(\\d+)', text)]\n",
    "\n",
    "\n",
    "# read files (sorted by natrual_keys) to a 3-D NumPy array\n",
    "for files in sorted(glob.glob(\"*mV.csv\"), key=natural_keys):\n",
    "    print(files)\n",
    "    try:\n",
    "        dataTemp = np.genfromtxt(files, delimiter='\\t')\n",
    "        dataTemp = dataTemp[:, :, np.newaxis]\n",
    "        data = np.concatenate((data, dataTemp), axis=2)\n",
    "    except NameError:\n",
    "        data = np.genfromtxt(files, delimiter='\\t')\n",
    "        data = data[:, :, np.newaxis]\n"
   ]
  },
  {
   "cell_type": "code",
   "execution_count": 2,
   "metadata": {
    "collapsed": true
   },
   "outputs": [],
   "source": [
    "# Calculate biphotonRates, storing to NumPy array\n",
    "biphotonRates = np.array([])\n",
    "\n",
    "for i in range(np.shape(data)[2]):\n",
    "    totalSum = np.sum(data[:,1, i])\n",
    "    noiseAverage1024 = np.average(data[795:996,1, i])*1024\n",
    "    areaOfPeak = totalSum - noiseAverage1024\n",
    "    biphotonRate = areaOfPeak/pumpPower/measureTime\n",
    "    biphotonRates = np.append(biphotonRates, biphotonRate)"
   ]
  },
  {
   "cell_type": "code",
   "execution_count": 88,
   "metadata": {
    "scrolled": true
   },
   "outputs": [
    {
     "data": {
      "image/png": "[encoded data removed]",
      "text/plain": [
       "<matplotlib.figure.Figure at 0x7f540a868780>"
      ]
     },
     "metadata": {},
     "output_type": "display_data"
    }
   ],
   "source": [
    "x_ = np.arange(1024)\n",
    "y_ = data[:, 1, 1]\n",
    "y_std = np.std(data[:, 1, 0])\n",
    "y_avg = np.average(data[:, 1, 0])\n",
    "plt.bar(x_, y_, width=1)\n",
    "# plt.hist(y_, bins=np.logspace(0, 3))\n",
    "# plt.gca().set_xscale(\"log\")\n",
    "plt.show()"
   ]
  },
  {
   "cell_type": "code",
   "execution_count": 87,
   "metadata": {
    "scrolled": true
   },
   "outputs": [],
   "source": [
    "origin_data = np.array([])\n",
    "np.append(origin_data, )"
   ]
  },
  {
   "cell_type": "code",
   "execution_count": 92,
   "metadata": {},
   "outputs": [
    {
     "data": {
      "text/plain": [
       "44.0"
      ]
     },
     "execution_count": 92,
     "metadata": {},
     "output_type": "execute_result"
    }
   ],
   "source": [
    "y_[350]"
   ]
  },
  {
   "cell_type": "code",
   "execution_count": 93,
   "metadata": {},
   "outputs": [
    {
     "data": {
      "text/plain": [
       "350"
      ]
     },
     "execution_count": 93,
     "metadata": {},
     "output_type": "execute_result"
    }
   ],
   "source": [
    "x_[350]"
   ]
  },
  {
   "cell_type": "code",
   "execution_count": 148,
   "metadata": {},
   "outputs": [],
   "source": [
    "tmp = np.array([])\n",
    "for i in range(1024):\n",
    "    for j in range(int(y_[i])):\n",
    "        tmp = np.append(tmp, x_[i])\n"
   ]
  },
  {
   "cell_type": "code",
   "execution_count": 149,
   "metadata": {
    "scrolled": true
   },
   "outputs": [
    {
     "data": {
      "text/plain": [
       "(array([ 0.00064648,  0.00038789,  0.00038789,  0.00051719,  0.00025859,\n",
       "         0.00025859,  0.00025859,  0.        ,  0.00064648,  0.00077578,\n",
       "         0.00025859,  0.0001293 ,  0.00038789,  0.00051719,  0.00025859,\n",
       "         0.0001293 ,  0.00025859,  0.0001293 ,  0.00051719,  0.        ,\n",
       "         0.00090508,  0.0001293 ,  0.00051719,  0.00051719,  0.        ,\n",
       "         0.00051719,  0.00038789,  0.00077578,  0.0001293 ,  0.00090508,\n",
       "         0.00038789,  0.00051719,  0.00038789,  0.00090508,  0.00038789,\n",
       "         0.00064648,  0.00077578,  0.00051719,  0.00077578,  0.0001293 ,\n",
       "         0.00116367,  0.00038789,  0.00103437,  0.00103437,  0.00064648,\n",
       "         0.00103437,  0.00142226,  0.00077578,  0.00064648,  0.00129297,\n",
       "         0.00077578,  0.00155156,  0.00090508,  0.00116367,  0.00129297,\n",
       "         0.00051719,  0.00090508,  0.00129297,  0.00116367,  0.00103437,\n",
       "         0.00090508,  0.00181015,  0.00103437,  0.00142226,  0.00168086,\n",
       "         0.00103437,  0.00129297,  0.00155156,  0.00142226,  0.00219804,\n",
       "         0.00245664,  0.00090508,  0.00168086,  0.00168086,  0.00142226,\n",
       "         0.00310312,  0.00129297,  0.00219804,  0.00258593,  0.00142226,\n",
       "         0.00206875,  0.00193945,  0.00323242,  0.00271523,  0.00258593,\n",
       "         0.00181015,  0.00284453,  0.00258593,  0.0040082 ,  0.00439609,\n",
       "         0.00245664,  0.00465468,  0.00362031,  0.00219804,  0.00465468,\n",
       "         0.00478398,  0.00413749,  0.00362031,  0.00323242,  0.00232734,\n",
       "         0.00646483,  0.00465468,  0.00568905,  0.00439609,  0.00349101,\n",
       "         0.00594765,  0.00168086,  0.00491327,  0.00413749,  0.00336171,\n",
       "         0.00336171,  0.00336171,  0.0038789 ,  0.00426679,  0.00297382,\n",
       "         0.00297382,  0.00310312,  0.00362031,  0.00426679,  0.00232734,\n",
       "         0.00297382,  0.00168086,  0.00258593,  0.00297382,  0.00310312,\n",
       "         0.00129297,  0.00181015,  0.00232734,  0.00219804,  0.00271523,\n",
       "         0.00103437,  0.00155156,  0.00206875,  0.00090508,  0.00090508,\n",
       "         0.00155156,  0.00129297,  0.00206875,  0.00090508,  0.00051719,\n",
       "         0.00116367,  0.00064648,  0.00090508,  0.00193945,  0.00051719,\n",
       "         0.00103437,  0.00064648,  0.00077578,  0.00168086,  0.00077578,\n",
       "         0.00077578,  0.00051719,  0.00038789,  0.00129297,  0.00129297,\n",
       "         0.00090508,  0.00116367,  0.00090508,  0.00025859,  0.0001293 ,\n",
       "         0.00025859,  0.00025859,  0.00090508,  0.00103437,  0.00051719,\n",
       "         0.00090508,  0.00038789,  0.00025859,  0.00051719,  0.00051719,\n",
       "         0.00116367,  0.00025859,  0.00051719,  0.00025859,  0.00051719,\n",
       "         0.00051719,  0.00038789,  0.00064648,  0.00064648,  0.00038789,\n",
       "         0.00038789,  0.        ,  0.00038789,  0.00116367,  0.00038789,\n",
       "         0.        ,  0.        ,  0.0001293 ,  0.0001293 ,  0.00038789,\n",
       "         0.00051719,  0.0001293 ,  0.0001293 ,  0.        ,  0.00077578,\n",
       "         0.00038789,  0.00051719,  0.        ,  0.00025859,  0.00025859,\n",
       "         0.        ,  0.        ,  0.00025859,  0.        ,  0.        ,\n",
       "         0.00025859,  0.0001293 ,  0.0001293 ,  0.0001293 ,  0.00038789,\n",
       "         0.00025859,  0.0001293 ,  0.        ,  0.0001293 ,  0.0001293 ,\n",
       "         0.0001293 ,  0.00025859,  0.        ,  0.00025859,  0.0001293 ,\n",
       "         0.0001293 ,  0.00025859,  0.00025859,  0.0001293 ,  0.00025859,\n",
       "         0.00025859,  0.00025859,  0.00038789,  0.0001293 ,  0.        ,\n",
       "         0.        ,  0.00025859,  0.        ,  0.0001293 ,  0.0001293 ,\n",
       "         0.        ,  0.00025859,  0.        ,  0.0001293 ,  0.        ,\n",
       "         0.        ,  0.        ,  0.0001293 ,  0.        ,  0.0001293 ,\n",
       "         0.        ,  0.        ,  0.0001293 ,  0.0001293 ,  0.        ,\n",
       "         0.00038789,  0.00025859,  0.        ,  0.0001293 ,  0.0001293 ,\n",
       "         0.0001293 ,  0.0001293 ,  0.0001293 ,  0.00025859,  0.0001293 ,\n",
       "         0.00025859,  0.        ,  0.0001293 ,  0.00025859,  0.        ,\n",
       "         0.        ,  0.0001293 ,  0.        ,  0.00038789,  0.        ,\n",
       "         0.        ,  0.0001293 ,  0.0001293 ,  0.00025859,  0.0001293 ,\n",
       "         0.00025859,  0.        ,  0.00038789,  0.0001293 ,  0.0001293 ,\n",
       "         0.00025859,  0.0001293 ,  0.        ,  0.00025859,  0.        ,\n",
       "         0.00025859,  0.        ,  0.0001293 ,  0.00025859,  0.        ,\n",
       "         0.00025859,  0.0001293 ,  0.00025859,  0.        ,  0.        ,\n",
       "         0.        ,  0.        ,  0.        ,  0.        ,  0.00038789]),\n",
       " array([    2.  ,     5.37,     8.74,    12.11,    15.48,    18.85,\n",
       "           22.22,    25.59,    28.96,    32.33,    35.7 ,    39.07,\n",
       "           42.44,    45.81,    49.18,    52.55,    55.92,    59.29,\n",
       "           62.66,    66.03,    69.4 ,    72.77,    76.14,    79.51,\n",
       "           82.88,    86.25,    89.62,    92.99,    96.36,    99.73,\n",
       "          103.1 ,   106.47,   109.84,   113.21,   116.58,   119.95,\n",
       "          123.32,   126.69,   130.06,   133.43,   136.8 ,   140.17,\n",
       "          143.54,   146.91,   150.28,   153.65,   157.02,   160.39,\n",
       "          163.76,   167.13,   170.5 ,   173.87,   177.24,   180.61,\n",
       "          183.98,   187.35,   190.72,   194.09,   197.46,   200.83,\n",
       "          204.2 ,   207.57,   210.94,   214.31,   217.68,   221.05,\n",
       "          224.42,   227.79,   231.16,   234.53,   237.9 ,   241.27,\n",
       "          244.64,   248.01,   251.38,   254.75,   258.12,   261.49,\n",
       "          264.86,   268.23,   271.6 ,   274.97,   278.34,   281.71,\n",
       "          285.08,   288.45,   291.82,   295.19,   298.56,   301.93,\n",
       "          305.3 ,   308.67,   312.04,   315.41,   318.78,   322.15,\n",
       "          325.52,   328.89,   332.26,   335.63,   339.  ,   342.37,\n",
       "          345.74,   349.11,   352.48,   355.85,   359.22,   362.59,\n",
       "          365.96,   369.33,   372.7 ,   376.07,   379.44,   382.81,\n",
       "          386.18,   389.55,   392.92,   396.29,   399.66,   403.03,\n",
       "          406.4 ,   409.77,   413.14,   416.51,   419.88,   423.25,\n",
       "          426.62,   429.99,   433.36,   436.73,   440.1 ,   443.47,\n",
       "          446.84,   450.21,   453.58,   456.95,   460.32,   463.69,\n",
       "          467.06,   470.43,   473.8 ,   477.17,   480.54,   483.91,\n",
       "          487.28,   490.65,   494.02,   497.39,   500.76,   504.13,\n",
       "          507.5 ,   510.87,   514.24,   517.61,   520.98,   524.35,\n",
       "          527.72,   531.09,   534.46,   537.83,   541.2 ,   544.57,\n",
       "          547.94,   551.31,   554.68,   558.05,   561.42,   564.79,\n",
       "          568.16,   571.53,   574.9 ,   578.27,   581.64,   585.01,\n",
       "          588.38,   591.75,   595.12,   598.49,   601.86,   605.23,\n",
       "          608.6 ,   611.97,   615.34,   618.71,   622.08,   625.45,\n",
       "          628.82,   632.19,   635.56,   638.93,   642.3 ,   645.67,\n",
       "          649.04,   652.41,   655.78,   659.15,   662.52,   665.89,\n",
       "          669.26,   672.63,   676.  ,   679.37,   682.74,   686.11,\n",
       "          689.48,   692.85,   696.22,   699.59,   702.96,   706.33,\n",
       "          709.7 ,   713.07,   716.44,   719.81,   723.18,   726.55,\n",
       "          729.92,   733.29,   736.66,   740.03,   743.4 ,   746.77,\n",
       "          750.14,   753.51,   756.88,   760.25,   763.62,   766.99,\n",
       "          770.36,   773.73,   777.1 ,   780.47,   783.84,   787.21,\n",
       "          790.58,   793.95,   797.32,   800.69,   804.06,   807.43,\n",
       "          810.8 ,   814.17,   817.54,   820.91,   824.28,   827.65,\n",
       "          831.02,   834.39,   837.76,   841.13,   844.5 ,   847.87,\n",
       "          851.24,   854.61,   857.98,   861.35,   864.72,   868.09,\n",
       "          871.46,   874.83,   878.2 ,   881.57,   884.94,   888.31,\n",
       "          891.68,   895.05,   898.42,   901.79,   905.16,   908.53,\n",
       "          911.9 ,   915.27,   918.64,   922.01,   925.38,   928.75,\n",
       "          932.12,   935.49,   938.86,   942.23,   945.6 ,   948.97,\n",
       "          952.34,   955.71,   959.08,   962.45,   965.82,   969.19,\n",
       "          972.56,   975.93,   979.3 ,   982.67,   986.04,   989.41,\n",
       "          992.78,   996.15,   999.52,  1002.89,  1006.26,  1009.63,  1013.  ]),\n",
       " <a list of 300 Patch objects>)"
      ]
     },
     "execution_count": 149,
     "metadata": {},
     "output_type": "execute_result"
    }
   ],
   "source": [
    "plt.hist(tmp, bins=300, normed=True)\n",
    "# plt.show()"
   ]
  },
  {
   "cell_type": "code",
   "execution_count": 150,
   "metadata": {},
   "outputs": [
    {
     "data": {
      "image/png": "[encoded data removed]",
      "text/plain": [
       "<matplotlib.figure.Figure at 0x7f540a7acba8>"
      ]
     },
     "metadata": {},
     "output_type": "display_data"
    }
   ],
   "source": [
    "from scipy.stats import lognorm\n",
    "fit_ = lognorm.fit(tmp)\n",
    "x=np.linspace(0,1024)\n",
    "pdf_fitted = lognorm.pdf(x, fit_[0], loc=fit_[1], scale=fit_[2]) # fitted distribution\n",
    "pdf = lognorm.pdf(x, 0.5, loc=0, scale=1) # original distribution\n",
    "plt.plot(x, pdf_fitted,'r-')\n",
    "\n",
    "plt.show()"
   ]
  },
  {
   "cell_type": "code",
   "execution_count": 5,
   "metadata": {
    "scrolled": true
   },
   "outputs": [
    {
     "data": {
      "text/plain": [
       "3.0310278742309902"
      ]
     },
     "execution_count": 5,
     "metadata": {},
     "output_type": "execute_result"
    }
   ],
   "source": [
    "y_std"
   ]
  },
  {
   "cell_type": "code",
   "execution_count": 78,
   "metadata": {},
   "outputs": [
    {
     "data": {
      "text/plain": [
       "2.154296875"
      ]
     },
     "execution_count": 78,
     "metadata": {},
     "output_type": "execute_result"
    }
   ],
   "source": [
    "y_avg"
   ]
  },
  {
   "cell_type": "code",
   "execution_count": 3,
   "metadata": {},
   "outputs": [
    {
     "data": {
      "text/plain": [
       "array([  4791.44752428,   4785.01539919,   6092.96375267,   9030.73916134,\n",
       "        17042.17010187,  22625.70480929,  29933.72423596,  34542.25302061,\n",
       "        39304.3591566 ,  40245.96067283])"
      ]
     },
     "execution_count": 3,
     "metadata": {},
     "output_type": "execute_result"
    }
   ],
   "source": [
    "biphotonRates"
   ]
  },
  {
   "cell_type": "code",
   "execution_count": 4,
   "metadata": {
    "collapsed": true
   },
   "outputs": [],
   "source": [
    "# Create x-axis data\n",
    "x = np.array([])\n",
    "for file in sorted(glob.glob(\"*mV.csv\"), key=natural_keys):\n",
    "    fileName = int(file.replace(\"mV.csv\", \"\"))\n",
    "    x = np.append(x, fileName)"
   ]
  },
  {
   "cell_type": "code",
   "execution_count": 5,
   "metadata": {},
   "outputs": [
    {
     "data": {
      "text/plain": [
       "(10,)"
      ]
     },
     "execution_count": 5,
     "metadata": {},
     "output_type": "execute_result"
    }
   ],
   "source": [
    "np.shape(biphotonRates)"
   ]
  },
  {
   "cell_type": "code",
   "execution_count": 6,
   "metadata": {},
   "outputs": [
    {
     "data": {
      "text/plain": [
       "(10,)"
      ]
     },
     "execution_count": 6,
     "metadata": {},
     "output_type": "execute_result"
    }
   ],
   "source": [
    "np.shape(x)"
   ]
  },
  {
   "cell_type": "code",
   "execution_count": 7,
   "metadata": {},
   "outputs": [
    {
     "ename": "NameError",
     "evalue": "name 'temperature' is not defined",
     "output_type": "error",
     "traceback": [
      "\u001b[0;31m---------------------------------------------------------------------------\u001b[0m",
      "\u001b[0;31mNameError\u001b[0m                                 Traceback (most recent call last)",
      "\u001b[0;32m<ipython-input-7-6d5a4737eefc>\u001b[0m in \u001b[0;36m<module>\u001b[0;34m()\u001b[0m\n\u001b[0;32m----> 1\u001b[0;31m \u001b[0mtemperature\u001b[0m\u001b[0;34m\u001b[0m\u001b[0m\n\u001b[0m",
      "\u001b[0;31mNameError\u001b[0m: name 'temperature' is not defined"
     ]
    }
   ],
   "source": [
    "temperature"
   ]
  },
  {
   "cell_type": "code",
   "execution_count": 28,
   "metadata": {},
   "outputs": [
    {
     "data": {
      "text/plain": [
       "[<matplotlib.lines.Line2D at 0x7ff6fbeaa240>]"
      ]
     },
     "execution_count": 28,
     "metadata": {},
     "output_type": "execute_result"
    }
   ],
   "source": [
    "plt.plot(x, biphotonRates, 'o-')"
   ]
  },
  {
   "cell_type": "code",
   "execution_count": 29,
   "metadata": {},
   "outputs": [
    {
     "data": {
      "image/png": "[encoded data removed]",
      "text/plain": [
       "<matplotlib.figure.Figure at 0x7ff7039dc2b0>"
      ]
     },
     "metadata": {},
     "output_type": "display_data"
    }
   ],
   "source": [
    "plt.show()"
   ]
  },
  {
   "cell_type": "code",
   "execution_count": 41,
   "metadata": {
    "scrolled": false
   },
   "outputs": [
    {
     "data": {
      "image/png": "[encoded data removed]",
      "text/plain": [
       "<matplotlib.figure.Figure at 0x7ff6fc060278>"
      ]
     },
     "metadata": {},
     "output_type": "display_data"
    }
   ],
   "source": [
    "# draw a moooooooth curve!!! \n",
    "# save the fugure!!!\n",
    "from scipy.interpolate import interp1d\n",
    "f = interp1d(x, biphotonRates, kind='cubic')\n",
    "xnew = np.linspace(x.min(), x.max(), num=1000, endpoint=True)\n",
    "fig = plt.figure()\n",
    "plt.plot(xnew, f(xnew), '--', x, biphotonRates, 'bo')\n",
    "plt.show()\n",
    "fig.savefig('temp.png', dpi=fig.dpi)\n"
   ]
  },
  {
   "cell_type": "code",
   "execution_count": 38,
   "metadata": {},
   "outputs": [
    {
     "data": {
      "text/plain": [
       "numpy.ndarray"
      ]
     },
     "execution_count": 38,
     "metadata": {},
     "output_type": "execute_result"
    }
   ],
   "source": [
    "type(biphotonRates)"
   ]
  },
  {
   "cell_type": "code",
   "execution_count": 39,
   "metadata": {
    "collapsed": true
   },
   "outputs": [],
   "source": [
    "plt.savefig(\"curve.pdf\")"
   ]
  },
  {
   "cell_type": "code",
   "execution_count": null,
   "metadata": {
    "collapsed": true
   },
   "outputs": [],
   "source": []
  }
 ],
 "metadata": {
  "kernelspec": {
   "display_name": "Python 3",
   "language": "python",
   "name": "python3"
  },
  "language_info": {
   "codemirror_mode": {
    "name": "ipython",
    "version": 3
   },
   "file_extension": ".py",
   "mimetype": "text/x-python",
   "name": "python",
   "nbconvert_exporter": "python",
   "pygments_lexer": "ipython3",
   "version": "3.6.0"
  }
 },
 "nbformat": 4,
 "nbformat_minor": 2
}
