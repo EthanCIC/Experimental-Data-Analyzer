{
 "cells": [
  {
   "cell_type": "code",
   "execution_count": 1,
   "metadata": {},
   "outputs": [
    {
     "name": "stdout",
     "output_type": "stream",
     "text": [
      "500mV.csv\n",
      "1000mV.csv\n",
      "1500mV.csv\n",
      "2000mV.csv\n",
      "2500mV.csv\n",
      "3000mV.csv\n",
      "3500mV.csv\n",
      "4000mV.csv\n",
      "4500mV.csv\n",
      "5000mV.csv\n"
     ]
    }
   ],
   "source": [
    "import numpy as np\n",
    "import matplotlib.pyplot as plt\n",
    "import os\n",
    "import re\n",
    "import glob\n",
    "\n",
    "# set exp. parameters\n",
    "pumpPower = 0.014\n",
    "measureTime = 30\n",
    "\n",
    "# human sorting (Natrual sorting)\n",
    "def atoi(text):\n",
    "    return int(text) if text.isdigit() else text\n",
    "\n",
    "def natural_keys(text):\n",
    "    return [atoi(c) for c in re.split('(\\d+)', text)]\n",
    "\n",
    "\n",
    "# read files (sorted by natrual_keys) to a 3-D NumPy array\n",
    "for files in sorted(glob.glob(\"*mV.csv\"), key=natural_keys):\n",
    "    print(files)\n",
    "    try:\n",
    "        dataTemp = np.genfromtxt(files, delimiter='\\t')\n",
    "        dataTemp = dataTemp[:, :, np.newaxis]\n",
    "        data = np.concatenate((data, dataTemp), axis=2)\n",
    "    except NameError:\n",
    "        data = np.genfromtxt(files, delimiter='\\t')\n",
    "        data = data[:, :, np.newaxis]\n"
   ]
  },
  {
   "cell_type": "code",
   "execution_count": 2,
   "metadata": {
    "collapsed": true
   },
   "outputs": [],
   "source": [
    "# Calculate biphotonRates, storing to NumPy array\n",
    "biphotonRates = np.array([])\n",
    "\n",
    "for i in range(np.shape(data)[2]):\n",
    "    totalSum = np.sum(data[:,1, i])\n",
    "    noiseAverage1024 = np.average(data[795:996,1, i])*1024\n",
    "    areaOfPeak = totalSum - noiseAverage1024\n",
    "    biphotonRate = areaOfPeak/pumpPower/measureTime\n",
    "    biphotonRates = np.append(biphotonRates, biphotonRate)"
   ]
  },
  {
   "cell_type": "code",
   "execution_count": 3,
   "metadata": {},
   "outputs": [
    {
     "data": {
      "text/plain": [
       "array([  4791.44752428,   4785.01539919,   6092.96375267,   9030.73916134,\n",
       "        17042.17010187,  22625.70480929,  29933.72423596,  34542.25302061,\n",
       "        39304.3591566 ,  40245.96067283])"
      ]
     },
     "execution_count": 3,
     "metadata": {},
     "output_type": "execute_result"
    }
   ],
   "source": [
    "biphotonRates"
   ]
  },
  {
   "cell_type": "code",
   "execution_count": 4,
   "metadata": {
    "collapsed": true
   },
   "outputs": [],
   "source": [
    "# Create x-axis data\n",
    "x = np.array([])\n",
    "for file in sorted(glob.glob(\"*mV.csv\"), key=natural_keys):\n",
    "    fileName = int(file.replace(\"mV.csv\", \"\"))\n",
    "    x = np.append(x, fileName)"
   ]
  },
  {
   "cell_type": "code",
   "execution_count": 5,
   "metadata": {},
   "outputs": [
    {
     "data": {
      "text/plain": [
       "(10,)"
      ]
     },
     "execution_count": 5,
     "metadata": {},
     "output_type": "execute_result"
    }
   ],
   "source": [
    "np.shape(biphotonRates)"
   ]
  },
  {
   "cell_type": "code",
   "execution_count": 6,
   "metadata": {},
   "outputs": [
    {
     "data": {
      "text/plain": [
       "(10,)"
      ]
     },
     "execution_count": 6,
     "metadata": {},
     "output_type": "execute_result"
    }
   ],
   "source": [
    "np.shape(x)"
   ]
  },
  {
   "cell_type": "code",
   "execution_count": 7,
   "metadata": {},
   "outputs": [
    {
     "ename": "NameError",
     "evalue": "name 'temperature' is not defined",
     "output_type": "error",
     "traceback": [
      "\u001b[0;31m---------------------------------------------------------------------------\u001b[0m",
      "\u001b[0;31mNameError\u001b[0m                                 Traceback (most recent call last)",
      "\u001b[0;32m<ipython-input-7-6d5a4737eefc>\u001b[0m in \u001b[0;36m<module>\u001b[0;34m()\u001b[0m\n\u001b[0;32m----> 1\u001b[0;31m \u001b[0mtemperature\u001b[0m\u001b[0;34m\u001b[0m\u001b[0m\n\u001b[0m",
      "\u001b[0;31mNameError\u001b[0m: name 'temperature' is not defined"
     ]
    }
   ],
   "source": [
    "temperature"
   ]
  },
  {
   "cell_type": "code",
   "execution_count": 28,
   "metadata": {},
   "outputs": [
    {
     "data": {
      "text/plain": [
       "[<matplotlib.lines.Line2D at 0x7ff6fbeaa240>]"
      ]
     },
     "execution_count": 28,
     "metadata": {},
     "output_type": "execute_result"
    }
   ],
   "source": [
    "plt.plot(x, biphotonRates, 'o-')"
   ]
  },
  {
   "cell_type": "code",
   "execution_count": 29,
   "metadata": {},
   "outputs": [
    {
     "data": {
      "image/png": "[encoded data removed]",
      "text/plain": [
       "<matplotlib.figure.Figure at 0x7ff7039dc2b0>"
      ]
     },
     "metadata": {},
     "output_type": "display_data"
    }
   ],
   "source": [
    "plt.show()"
   ]
  },
  {
   "cell_type": "code",
   "execution_count": 41,
   "metadata": {
    "scrolled": false
   },
   "outputs": [
    {
     "data": {
      "image/png": "[encoded data removed]",
      "text/plain": [
       "<matplotlib.figure.Figure at 0x7ff6fc060278>"
      ]
     },
     "metadata": {},
     "output_type": "display_data"
    }
   ],
   "source": [
    "# draw a moooooooth curve!!! \n",
    "# save the fugure!!!\n",
    "from scipy.interpolate import interp1d\n",
    "f = interp1d(x, biphotonRates, kind='cubic')\n",
    "xnew = np.linspace(x.min(), x.max(), num=1000, endpoint=True)\n",
    "fig = plt.figure()\n",
    "plt.plot(xnew, f(xnew), '--', x, biphotonRates, 'bo')\n",
    "plt.show()\n",
    "fig.savefig('temp.png', dpi=fig.dpi)\n"
   ]
  },
  {
   "cell_type": "code",
   "execution_count": 38,
   "metadata": {},
   "outputs": [
    {
     "data": {
      "text/plain": [
       "numpy.ndarray"
      ]
     },
     "execution_count": 38,
     "metadata": {},
     "output_type": "execute_result"
    }
   ],
   "source": [
    "type(biphotonRates)"
   ]
  },
  {
   "cell_type": "code",
   "execution_count": 39,
   "metadata": {},
   "outputs": [],
   "source": [
    "plt.savefig(\"curve.pdf\")"
   ]
  },
  {
   "cell_type": "code",
   "execution_count": null,
   "metadata": {
    "collapsed": true
   },
   "outputs": [],
   "source": []
  }
 ],
 "metadata": {
  "kernelspec": {
   "display_name": "Python 3",
   "language": "python",
   "name": "python3"
  },
  "language_info": {
   "codemirror_mode": {
    "name": "ipython",
    "version": 3
   },
   "file_extension": ".py",
   "mimetype": "text/x-python",
   "name": "python",
   "nbconvert_exporter": "python",
   "pygments_lexer": "ipython3",
   "version": "3.6.0"
  }
 },
 "nbformat": 4,
 "nbformat_minor": 2
}
